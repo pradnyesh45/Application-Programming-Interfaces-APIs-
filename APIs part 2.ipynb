{
 "cells": [
  {
   "cell_type": "markdown",
   "metadata": {},
   "source": [
    "### Fetch the list of topics that are present in ‘google/clusterfuzz’ Github repository from Github API using basic auth i.e by passing username and password.\n",
    "### Print the topic names\n",
    "### Note:Read the Github API documentation carefully."
   ]
  },
  {
   "cell_type": "code",
   "execution_count": 41,
   "metadata": {},
   "outputs": [
    {
     "name": "stdout",
     "output_type": "stream",
     "text": [
      "{'names': ['fuzzing', 'security', 'stability', 'vulnerabilities']}\n"
     ]
    }
   ],
   "source": [
    "import requests\n",
    "response = requests.get('https://api.github.com/repos/google/clusterfuzz/topics', headers = {'Accept': 'application/vnd.github.mercy-preview+json'})\n",
    "print(response.json())"
   ]
  },
  {
   "cell_type": "code",
   "execution_count": 42,
   "metadata": {},
   "outputs": [
    {
     "name": "stdout",
     "output_type": "stream",
     "text": [
      "fuzzing\n",
      "security\n",
      "stability\n",
      "vulnerabilities\n"
     ]
    }
   ],
   "source": [
    "names_dictionary = response.json()\n",
    "names_list = names_dictionary['names']\n",
    "for i in names_list:\n",
    "    print(i)"
   ]
  },
  {
   "cell_type": "markdown",
   "metadata": {},
   "source": [
    "### Fetch the list of languages used in ‘google/science-journal-ios’ Github repository from Github API using basic auth i.e by passing username and password.\n",
    "### Print the language name.\n",
    "### Note:Read the Github API documentation carefully."
   ]
  },
  {
   "cell_type": "code",
   "execution_count": 39,
   "metadata": {},
   "outputs": [
    {
     "name": "stdout",
     "output_type": "stream",
     "text": [
      "{'Swift': 3397723, 'HTML': 98618, 'Python': 5719, 'Ruby': 3491, 'Shell': 3064}\n"
     ]
    }
   ],
   "source": [
    "import requests\n",
    "response = requests.get('https://api.github.com/repos/google/science-journal-ios/languages')\n",
    "print(response.json())"
   ]
  },
  {
   "cell_type": "code",
   "execution_count": 40,
   "metadata": {},
   "outputs": [
    {
     "name": "stdout",
     "output_type": "stream",
     "text": [
      "Swift\n",
      "HTML\n",
      "Python\n",
      "Ruby\n",
      "Shell\n"
     ]
    }
   ],
   "source": [
    "languages_dictionary = response.json()\n",
    "for i in languages_dictionary.keys():\n",
    "    print(i)"
   ]
  },
  {
   "cell_type": "code",
   "execution_count": 2,
   "metadata": {},
   "outputs": [
    {
     "name": "stdout",
     "output_type": "stream",
     "text": [
      "{'message': 'Not Found', 'documentation_url': 'https://docs.github.com/rest'}\n"
     ]
    }
   ],
   "source": [
    "import requests\n",
    "response = requests.get('https://api.github.com/repos/CodingNinjasCodes')\n",
    "print(response.json())"
   ]
  },
  {
   "cell_type": "code",
   "execution_count": null,
   "metadata": {},
   "outputs": [],
   "source": [
    "import requests\n",
    "response = requests.get('https://api.github.com/repos/google/science-journal-ios/languages')\n",
    "print(response.json())"
   ]
  }
 ],
 "metadata": {
  "kernelspec": {
   "display_name": "Python 3",
   "language": "python",
   "name": "python3"
  },
  "language_info": {
   "codemirror_mode": {
    "name": "ipython",
    "version": 3
   },
   "file_extension": ".py",
   "mimetype": "text/x-python",
   "name": "python",
   "nbconvert_exporter": "python",
   "pygments_lexer": "ipython3",
   "version": "3.8.5"
  }
 },
 "nbformat": 4,
 "nbformat_minor": 4
}
